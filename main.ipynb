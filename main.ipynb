{
 "cells": [
  {
   "metadata": {},
   "cell_type": "markdown",
   "source": [
    "### Exercice 2: _Extraction de Données en Ligne_\n",
    "**Objectif:** Ecrivons les scripts d'extraction de données depuis différentes plateformes."
   ],
   "id": "8a77807f92f26ee"
  },
  {
   "metadata": {
    "ExecuteTime": {
     "end_time": "2025-03-27T11:12:28.297282Z",
     "start_time": "2025-03-27T11:12:28.291131Z"
    }
   },
   "cell_type": "code",
   "source": [
    "from urllib.request import urlopen\n",
    "from requests import get\n",
    "from requests import request\n",
    "from bs4 import BeautifulSoup\n",
    "from dotenv import dotenv_values"
   ],
   "id": "fbc121e30a2defb3",
   "outputs": [],
   "execution_count": 15
  },
  {
   "metadata": {},
   "cell_type": "markdown",
   "source": "1. **Amazon:** Web scraping avec BeautifulSoup: Produits, prix, avis",
   "id": "4ed4429937c283cc"
  },
  {
   "metadata": {
    "ExecuteTime": {
     "end_time": "2025-03-27T11:07:39.934545Z",
     "start_time": "2025-03-27T11:07:32.900683Z"
    }
   },
   "cell_type": "code",
   "source": [
    "url = \"https://www.amazon.com/dp/B0CP22DQQS?th=1\"\n",
    "html = urlopen(url)\n",
    "soup = BeautifulSoup(html, 'html.parser')"
   ],
   "id": "555d354fdf7d4fcd",
   "outputs": [],
   "execution_count": 8
  },
  {
   "metadata": {
    "ExecuteTime": {
     "end_time": "2025-03-27T11:07:40.231550Z",
     "start_time": "2025-03-27T11:07:40.197961Z"
    }
   },
   "cell_type": "code",
   "source": [
    "title = soup.find(id=\"productTitle\").get_text(strip=True)\n",
    "price = soup.find('span', {'class': 'a-price'}).get_text(strip=True).split('$')[1]\n",
    "rating = soup.find(class_=\"a-icon-alt\").get_text()\n",
    "print(f\"Produit: {title}\\nPrix: {price}$\\nAvis: {rating}\")"
   ],
   "id": "9e03dc510d3c025f",
   "outputs": [
    {
     "name": "stdout",
     "output_type": "stream",
     "text": [
      "Produit: Marsail Ergonomic Office Chair: Office Computer Desk Chair with High Back Mesh and Adjustable Lumbar Support Rolling Work Swivel Task Chairs with Wheel 3D Armrests and Headrest\n",
      "Prix: 105.58$\n",
      "Avis: 4.4 out of 5 stars\n"
     ]
    }
   ],
   "execution_count": 9
  },
  {
   "metadata": {},
   "cell_type": "markdown",
   "source": " 2. **Twitter:** Utilisation de l'API Twitter v2: Tweets, likes, retweets",
   "id": "8f7afba164c3e3ca"
  },
  {
   "metadata": {
    "ExecuteTime": {
     "end_time": "2025-03-27T11:14:48.518570Z",
     "start_time": "2025-03-27T11:14:47.883510Z"
    }
   },
   "cell_type": "code",
   "source": [
    "x_url=\"https://api.twitter.com/2\"\n",
    "\n",
    "config = dotenv_values(\".env\")\n",
    "\n",
    "X_BEARER_TOKEN = config.get(\"X_BEARER_TOKEN\")\n",
    "\n",
    "headers = {\n",
    "  'Authorization': f\"Bearer {X_BEARER_TOKEN}\"\n",
    "}\n",
    "\n",
    "if not X_BEARER_TOKEN:\n",
    "   raise Exception(\"Bearer token non trouvé. Merci de fournir un valeur à la variable d'environnement X_BEARER_TOKEN.\")\n",
    "\n",
    "def get_tweets(username: str):\n",
    "    response = get(f\"{x_url}/tweets/search/recent?query=from:{username}\", headers=headers)\n",
    "    if response.status_code != 200:\n",
    "        raise Exception(f\"Erreur {response.status_code}: {response.text}\")\n",
    "    data = response.json()\n",
    "    print(data)\n",
    "\n",
    "get_tweets(\"DylanCalluy\")"
   ],
   "id": "d267db7405888f3d",
   "outputs": [
    {
     "name": "stdout",
     "output_type": "stream",
     "text": [
      "{'title': 'Too Many Requests', 'detail': 'Too Many Requests', 'type': 'about:blank', 'status': 429}\n"
     ]
    }
   ],
   "execution_count": 20
  },
  {
   "metadata": {},
   "cell_type": "code",
   "outputs": [],
   "execution_count": null,
   "source": "",
   "id": "209dd8387678c28f"
  }
 ],
 "metadata": {
  "kernelspec": {
   "display_name": "Python 3",
   "language": "python",
   "name": "python3"
  },
  "language_info": {
   "codemirror_mode": {
    "name": "ipython",
    "version": 2
   },
   "file_extension": ".py",
   "mimetype": "text/x-python",
   "name": "python",
   "nbconvert_exporter": "python",
   "pygments_lexer": "ipython2",
   "version": "2.7.6"
  }
 },
 "nbformat": 4,
 "nbformat_minor": 5
}
